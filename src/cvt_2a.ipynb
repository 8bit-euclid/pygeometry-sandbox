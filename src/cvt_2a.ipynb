{
 "cells": [
  {
   "cell_type": "code",
   "execution_count": 1,
   "id": "9f533300",
   "metadata": {},
   "outputs": [],
   "source": [
    "import numpy as np\n",
    "import matplotlib.pyplot as plt\n",
    "\n",
    "from cvt_utils import SpaceIterMesh2D\n",
    "from plot_utils import display_plots, plot_cell_size_and_density, plot_seeds_and_cells, plot_bound_paths, display_animation, plot_computed_cell_size\n",
    "\n",
    "plt.style.use(\"dark_background\")\n",
    "np.random.seed(23)\n",
    "\n",
    "# Problem definition\n",
    "p_sw = np.array([0.0, 0.0])\n",
    "p_ne = np.array([1.0, 1.0])\n",
    "n_cells = 2\n",
    "n_iters = 1\n",
    "# n_iters = 10000\n",
    "\n",
    "mesh = SpaceIterMesh2D(p_sw, p_ne, n_cells, n_iters)"
   ]
  },
  {
   "cell_type": "markdown",
   "id": "77b5f4cf",
   "metadata": {},
   "source": [
    "### Iterations"
   ]
  },
  {
   "cell_type": "code",
   "execution_count": null,
   "id": "ffae2037",
   "metadata": {},
   "outputs": [
    {
     "name": "stdout",
     "output_type": "stream",
     "text": [
      "[[[0.94216623 0.14150076]\n",
      "  [0.42159653 0.34648944]]]\n",
      "[0.68188138 0.2439951 ]\n",
      "[-0.93045973  0.36639418]\n",
      "[-0.36639418 -0.93045973]\n"
     ]
    },
    {
     "ename": "AssertionError",
     "evalue": "Expected 2 intersections, got 0",
     "output_type": "error",
     "traceback": [
      "\u001b[31m---------------------------------------------------------------------------\u001b[39m",
      "\u001b[31mAssertionError\u001b[39m                            Traceback (most recent call last)",
      "\u001b[36mCell\u001b[39m\u001b[36m \u001b[39m\u001b[32mIn[8]\u001b[39m\u001b[32m, line 10\u001b[39m\n\u001b[32m      8\u001b[39m     \u001b[38;5;28mprint\u001b[39m(mesh.half_planes[\u001b[32m0\u001b[39m].normal)\n\u001b[32m      9\u001b[39m     \u001b[38;5;28mprint\u001b[39m(mesh.half_planes[\u001b[32m0\u001b[39m].tangent)\n\u001b[32m---> \u001b[39m\u001b[32m10\u001b[39m     \u001b[43mmesh\u001b[49m\u001b[43m.\u001b[49m\u001b[43mcompute_intersections\u001b[49m\u001b[43m(\u001b[49m\u001b[38;5;28;43miter\u001b[39;49m\u001b[43m)\u001b[49m\n\u001b[32m     11\u001b[39m \u001b[38;5;66;03m#     mesh.update_cell_bounds(iter)\u001b[39;00m\n\u001b[32m     12\u001b[39m \u001b[38;5;66;03m#     mesh.update_cell_masses(iter)\u001b[39;00m\n\u001b[32m     13\u001b[39m \u001b[38;5;66;03m#     mesh.update_cell_centroids(iter)\u001b[39;00m\n\u001b[32m     14\u001b[39m \u001b[38;5;66;03m#     if iter < n_iters - 1:\u001b[39;00m\n\u001b[32m     15\u001b[39m \u001b[38;5;66;03m#         mesh.update_cell_seeds(iter)\u001b[39;00m\n",
      "\u001b[36mFile \u001b[39m\u001b[32m/workspaces/pygeometry-sandbox/src/cvt_utils.py:322\u001b[39m, in \u001b[36mSpaceIterMesh2D.compute_intersections\u001b[39m\u001b[34m(self, iter)\u001b[39m\n\u001b[32m    320\u001b[39m \u001b[38;5;28;01mfor\u001b[39;00m i, edge \u001b[38;5;129;01min\u001b[39;00m \u001b[38;5;28menumerate\u001b[39m(\u001b[38;5;28mself\u001b[39m.edges):\n\u001b[32m    321\u001b[39m     hp = \u001b[38;5;28mself\u001b[39m.half_planes[i]\n\u001b[32m--> \u001b[39m\u001b[32m322\u001b[39m     pts = \u001b[38;5;28;43mself\u001b[39;49m\u001b[43m.\u001b[49m\u001b[43mboundary\u001b[49m\u001b[43m.\u001b[49m\u001b[43mintersections\u001b[49m\u001b[43m(\u001b[49m\u001b[43mhp\u001b[49m\u001b[43m)\u001b[49m\n\u001b[32m    323\u001b[39m     \u001b[38;5;28;01massert\u001b[39;00m \u001b[38;5;28mlen\u001b[39m(pts) == \u001b[32m2\u001b[39m, \u001b[33mf\u001b[39m\u001b[33m\"\u001b[39m\u001b[33mExpected 2 intersections, got \u001b[39m\u001b[38;5;132;01m{\u001b[39;00m\u001b[38;5;28mlen\u001b[39m(pts)\u001b[38;5;132;01m}\u001b[39;00m\u001b[33m\"\u001b[39m\n",
      "\u001b[36mFile \u001b[39m\u001b[32m/workspaces/pygeometry-sandbox/src/cvt_utils.py:293\u001b[39m, in \u001b[36mRectangle.intersections\u001b[39m\u001b[34m(self, hp)\u001b[39m\n\u001b[32m    290\u001b[39m     \u001b[38;5;28;01mif\u001b[39;00m \u001b[38;5;129;01mnot\u001b[39;00m \u001b[38;5;28mself\u001b[39m.contains(pt):\n\u001b[32m    291\u001b[39m         pts.remove(pt)\n\u001b[32m--> \u001b[39m\u001b[32m293\u001b[39m \u001b[38;5;28;01massert\u001b[39;00m \u001b[38;5;28mlen\u001b[39m(pts) == \u001b[32m2\u001b[39m, \u001b[33mf\u001b[39m\u001b[33m\"\u001b[39m\u001b[33mExpected 2 intersections, got \u001b[39m\u001b[38;5;132;01m{\u001b[39;00m\u001b[38;5;28mlen\u001b[39m(pts)\u001b[38;5;132;01m}\u001b[39;00m\u001b[33m\"\u001b[39m\n\u001b[32m    294\u001b[39m \u001b[38;5;28;01mreturn\u001b[39;00m pts\n",
      "\u001b[31mAssertionError\u001b[39m: Expected 2 intersections, got 0"
     ]
    }
   ],
   "source": [
    "mesh.set_initial_conditions()\n",
    "\n",
    "print(mesh.seed_matrix)\n",
    "\n",
    "for iter in range(n_iters):\n",
    "    mesh.update_half_planes(iter)\n",
    "    print(mesh.half_planes[0].point)\n",
    "    print(mesh.half_planes[0].normal)\n",
    "    print(mesh.half_planes[0].tangent)\n",
    "    mesh.compute_intersections(iter)\n",
    "#     mesh.update_cell_bounds(iter)\n",
    "#     mesh.update_cell_masses(iter)\n",
    "#     mesh.update_cell_moments(iter)\n",
    "#     mesh.update_cell_centroids(iter)\n",
    "#     if iter < n_iters - 1:\n",
    "#         mesh.update_cell_seeds(iter)"
   ]
  }
 ],
 "metadata": {
  "kernelspec": {
   "display_name": "pygeometry-sandbox",
   "language": "python",
   "name": "python3"
  },
  "language_info": {
   "codemirror_mode": {
    "name": "ipython",
    "version": 3
   },
   "file_extension": ".py",
   "mimetype": "text/x-python",
   "name": "python",
   "nbconvert_exporter": "python",
   "pygments_lexer": "ipython3",
   "version": "3.12.11"
  }
 },
 "nbformat": 4,
 "nbformat_minor": 5
}
