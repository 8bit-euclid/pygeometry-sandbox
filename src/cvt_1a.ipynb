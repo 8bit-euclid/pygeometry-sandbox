{
 "cells": [
  {
   "cell_type": "code",
   "execution_count": null,
   "id": "9f533300",
   "metadata": {},
   "outputs": [],
   "source": [
    "import numpy as np\n",
    "import matplotlib.pyplot as plt\n",
    "from IPython.display import HTML\n",
    "\n",
    "from cvt_utils import SpaceIterMesh, plot_cell_size_and_density, plot_seeds_and_cells, plot_bound_paths, display_animation\n",
    "\n",
    "plt.style.use(\"dark_background\")\n",
    "np.random.seed(21)\n",
    "\n",
    "# Problem definition\n",
    "x_min = 0.0\n",
    "x_max = 1.0\n",
    "n_cells = 60\n",
    "# n_cells = 100\n",
    "# n_iters = 300\n",
    "# n_iters = 2000\n",
    "n_iters = 7000\n",
    "# n_iters = 10000\n",
    "\n",
    "mesh = SpaceIterMesh(x_min, x_max, n_cells, n_iters)\n",
    "mesh.cell_size = lambda x: 0.1 + 0.0 * x\n",
    "# mesh.cell_size = lambda x: np.exp(2*x)\n",
    "# mesh.cell_size = lambda x: 1.0 + 0.5 * np.sin(2 * np.pi * x)"
   ]
  },
  {
   "cell_type": "code",
   "execution_count": null,
   "id": "6c5cb7af",
   "metadata": {},
   "outputs": [],
   "source": [
    "plot_cell_size_and_density(mesh)"
   ]
  },
  {
   "cell_type": "markdown",
   "id": "24830837",
   "metadata": {},
   "source": [
    "### Iterations"
   ]
  },
  {
   "cell_type": "code",
   "execution_count": null,
   "id": "09a90b94",
   "metadata": {},
   "outputs": [],
   "source": [
    "# Generate random x values for the first iteration, sort them, and compute cell boundaries\n",
    "mesh.seed_matrix[:, 0] = np.sort(np.random.uniform(x_min, x_max, n_cells))\n",
    "\n",
    "for iter in range(n_iters):\n",
    "    mesh.update_cell_bounds(iter)\n",
    "    if iter < n_iters - 1:\n",
    "        mesh.update_cell_seeds(iter)"
   ]
  },
  {
   "cell_type": "code",
   "execution_count": null,
   "id": "bceb19c2",
   "metadata": {},
   "outputs": [],
   "source": [
    "html = display_animation(mesh, duration=3.0, fps=60)\n",
    "html"
   ]
  },
  {
   "cell_type": "code",
   "execution_count": null,
   "id": "511e0fc2",
   "metadata": {},
   "outputs": [],
   "source": [
    "plot_bound_paths(mesh, 0, n_iters - 1)"
   ]
  },
  {
   "cell_type": "markdown",
   "id": "ce27288d",
   "metadata": {},
   "source": [
    "### Errors"
   ]
  },
  {
   "cell_type": "code",
   "execution_count": null,
   "id": "4fc4406f",
   "metadata": {},
   "outputs": [],
   "source": [
    "analytical = np.linspace(x_min, x_max, n_cells + 1)\n",
    "min_errors = np.zeros(n_iters)\n",
    "max_errors = np.zeros(n_iters)\n",
    "rms_errors = np.zeros(n_iters)\n",
    "\n",
    "for iter in range(n_iters):\n",
    "    errors = mesh.bound_matrix[:, iter] - analytical\n",
    "    min_errors[iter] = np.min(np.abs(errors))\n",
    "    max_errors[iter] = np.max(np.abs(errors))\n",
    "    rms_errors[iter] = np.sqrt(np.mean(errors**2))"
   ]
  },
  {
   "cell_type": "code",
   "execution_count": null,
   "id": "44f587b3",
   "metadata": {},
   "outputs": [],
   "source": [
    "from cvt_utils import plot_errors"
   ]
  },
  {
   "cell_type": "code",
   "execution_count": null,
   "id": "8fa1dede",
   "metadata": {},
   "outputs": [],
   "source": [
    "plot_errors(min_errors, max_errors, rms_errors, logscale=False)\n",
    "plot_errors(min_errors, max_errors, rms_errors, logscale=True)"
   ]
  },
  {
   "cell_type": "markdown",
   "id": "c0fc4b1f",
   "metadata": {},
   "source": [
    "### Convergence"
   ]
  },
  {
   "cell_type": "code",
   "execution_count": null,
   "id": "761216ae",
   "metadata": {},
   "outputs": [],
   "source": [
    "from cvt_utils import plot_log_errors\n",
    "\n",
    "plot_log_errors(min_errors, max_errors, rms_errors)\n",
    "\n",
    "slope, intercept = np.polyfit(np.log(rms_errors[:-1]), np.log(rms_errors[1:]), 1)\n",
    "print(f\"Observed order of convergence q ≈ {round(slope, 5)}\")"
   ]
  },
  {
   "cell_type": "markdown",
   "id": "3cf035a3",
   "metadata": {},
   "source": [
    "### Energy"
   ]
  },
  {
   "cell_type": "code",
   "execution_count": null,
   "id": "0429d3ce",
   "metadata": {},
   "outputs": [],
   "source": []
  }
 ],
 "metadata": {
  "kernelspec": {
   "display_name": "pygeometry-sandbox",
   "language": "python",
   "name": "python3"
  },
  "language_info": {
   "codemirror_mode": {
    "name": "ipython",
    "version": 3
   },
   "file_extension": ".py",
   "mimetype": "text/x-python",
   "name": "python",
   "nbconvert_exporter": "python",
   "pygments_lexer": "ipython3",
   "version": "3.12.11"
  }
 },
 "nbformat": 4,
 "nbformat_minor": 5
}
