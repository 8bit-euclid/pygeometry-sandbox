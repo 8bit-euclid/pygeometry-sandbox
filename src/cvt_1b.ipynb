{
 "cells": [
  {
   "cell_type": "code",
   "execution_count": null,
   "id": "9f533300",
   "metadata": {},
   "outputs": [],
   "source": [
    "import numpy as np\n",
    "import matplotlib.pyplot as plt\n",
    "\n",
    "from cvt_utils import SpaceIterMesh, plot_cell_size_and_density, plot_seeds_and_cells, plot_bound_paths, display_animation, plot_computed_cell_size\n",
    "\n",
    "plt.style.use(\"dark_background\")\n",
    "np.random.seed(21)\n",
    "\n",
    "# Problem definition\n",
    "x_min = 0.0\n",
    "x_max = 1.0\n",
    "# n_cells = 50\n",
    "n_cells = 100\n",
    "# n_iters = 300\n",
    "# n_iters = 2000\n",
    "# n_iters = 5000\n",
    "# n_iters = 7000\n",
    "n_iters = 10_000\n",
    "\n",
    "mesh = SpaceIterMesh(x_min, x_max, n_cells, n_iters)\n",
    "\n",
    "# Cell size function\n",
    "# mesh.cell_size = lambda x: 1.0 + 0.0 * x\n",
    "# mesh.cell_size = lambda x: np.exp(2*x)\n",
    "# mesh.cell_size = lambda x: 0.51 + 0.5 * np.sin(2 * np.pi * x)\n",
    "mesh.cell_size = lambda x: 0.5025 + 0.5 * np.sin(2 * np.pi * x)"
   ]
  },
  {
   "cell_type": "code",
   "execution_count": null,
   "id": "6c5cb7af",
   "metadata": {},
   "outputs": [],
   "source": [
    "# Print cell size statistics\n",
    "x = np.linspace(x_min, x_max, 1000)\n",
    "assert mesh.cell_size is not None, \"Cell size function not set\"\n",
    "print(\"Cell size stats:\")\n",
    "print(f\"min: {np.min(mesh.cell_size(x)):.4f}\")\n",
    "print(f\"max: {np.max(mesh.cell_size(x)):.4f}\") # Should be 0.505 \n",
    "print(f\"mean: {np.mean(mesh.cell_size(x)):.3f}\")\n",
    "print(f\"std: {np.std(mesh.cell_size(x)):.3f}\")\n",
    "\n",
    "# Print cell density statistics\n",
    "print()\n",
    "print(f\"Cell density min: {np.min(mesh.cell_density(x)):.3f}\")\n",
    "print(f\"Cell density max: {np.max(mesh.cell_density(x)):.3f}\")\n",
    "print(f\"Cell density mean: {np.mean(mesh.cell_density(x)):.3f}\")\n",
    "print(f\"Cell density std: {np.std(mesh.cell_density(x)):.3f}\")\n",
    "\n",
    "# Plot cell size and density\n",
    "plot_cell_size_and_density(mesh)"
   ]
  },
  {
   "cell_type": "markdown",
   "id": "24830837",
   "metadata": {},
   "source": [
    "### Iterations"
   ]
  },
  {
   "cell_type": "code",
   "execution_count": null,
   "id": "09a90b94",
   "metadata": {},
   "outputs": [],
   "source": [
    "# Generate random x values for the first iteration, sort them, and compute cell boundaries\n",
    "mesh.seed_matrix[:, 0] = np.sort(np.random.uniform(x_min, x_max, n_cells))\n",
    "\n",
    "mesh.update_cell_bounds()\n",
    "   \n",
    "for iter in range(n_iters):\n",
    "    mesh.update_cell_bounds(iter)\n",
    "    if iter < n_iters - 1:\n",
    "        mesh.update_cell_seeds(iter)"
   ]
  },
  {
   "cell_type": "code",
   "execution_count": null,
   "id": "bceb19c2",
   "metadata": {},
   "outputs": [],
   "source": [
    "html = display_animation(mesh, duration=3.0, fps=60)\n",
    "html"
   ]
  },
  {
   "cell_type": "code",
   "execution_count": null,
   "id": "511e0fc2",
   "metadata": {},
   "outputs": [],
   "source": [
    "plot_bound_paths(mesh, 0, n_iters - 1)"
   ]
  },
  {
   "cell_type": "code",
   "execution_count": null,
   "id": "bfd1c72a",
   "metadata": {},
   "outputs": [],
   "source": [
    "# Compute first derivative of the seed positions over iterations (dx/di = dx)\n",
    "dseed_matrix = np.diff(mesh.seed_matrix, axis=1)\n",
    "\n",
    "# Plot the min, max, RMS, and std of the first derivative of the seed positions over iterations\n",
    "min_dseed = np.min(np.abs(dseed_matrix), axis=0)\n",
    "max_dseed = np.max(np.abs(dseed_matrix), axis=0)\n",
    "rms_dseed = np.sqrt(np.mean(dseed_matrix**2, axis=0))\n",
    "\n",
    "plt.figure(figsize=(10, 6))\n",
    "plt.plot(min_dseed, label=\"Min\", linewidth=1, color=\"green\")\n",
    "plt.plot(max_dseed, label=\"Max\", linewidth=1, color=\"red\")\n",
    "plt.plot(rms_dseed, label=\"RMS\", linewidth=1, color=\"cyan\")\n",
    "plt.title(\"Convergence of first derivatives\")\n",
    "plt.xlabel(\"Iteration\")\n",
    "plt.ylabel(\"Seed Position Change\")\n",
    "plt.yscale(\"log\")\n",
    "plt.legend()\n",
    "plt.grid(True, alpha=0.3)\n",
    "plt.show()"
   ]
  },
  {
   "cell_type": "code",
   "execution_count": null,
   "id": "ae191414",
   "metadata": {},
   "outputs": [],
   "source": [
    "# Compute second derivative of the seed positions over iterations\n",
    "d2seed_matrix = np.diff(dseed_matrix, axis=1)\n",
    "\n",
    "# Plot the min, max, and RMS of the second derivative of the seed positions over iterations\n",
    "min_d2seed = np.min(np.abs(d2seed_matrix), axis=0)\n",
    "max_d2seed = np.max(np.abs(d2seed_matrix), axis=0)\n",
    "rms_d2seed = np.sqrt(np.mean(d2seed_matrix**2, axis=0))\n",
    "\n",
    "plt.figure(figsize=(10, 6))\n",
    "plt.plot(min_d2seed, label=\"Min\", linewidth=1, color=\"green\")\n",
    "plt.plot(max_d2seed, label=\"Max\", linewidth=1, color=\"red\")\n",
    "plt.plot(rms_d2seed, label=\"RMS\", linewidth=1, color=\"cyan\")\n",
    "plt.title(\"Convergence of second derivatives\")\n",
    "plt.xlabel(\"Iteration\")\n",
    "plt.ylabel(\"Change of Seed Position Change\")\n",
    "plt.yscale(\"log\")\n",
    "plt.legend()\n",
    "plt.grid(True, alpha=0.3)\n",
    "plt.show()"
   ]
  },
  {
   "cell_type": "code",
   "execution_count": null,
   "id": "428a86ae",
   "metadata": {},
   "outputs": [],
   "source": [
    "# Compute third derivative of the seed positions over iterations\n",
    "d3seed_matrix = np.diff(d2seed_matrix, axis=1)\n",
    "\n",
    "# Plot the min, max, and RMS of the third derivative of the seed positions over iterations\n",
    "min_d3seed = np.min(np.abs(d3seed_matrix), axis=0)\n",
    "max_d3seed = np.max(np.abs(d3seed_matrix), axis=0)\n",
    "rms_d3seed = np.sqrt(np.mean(d3seed_matrix**2, axis=0))\n",
    "\n",
    "plt.figure(figsize=(10, 6))\n",
    "plt.plot(min_d3seed, label=\"Min\", linewidth=1, color=\"green\")\n",
    "plt.plot(max_d3seed, label=\"Max\", linewidth=1, color=\"red\")\n",
    "plt.plot(rms_d3seed, label=\"RMS\", linewidth=1, color=\"cyan\")\n",
    "plt.title(\"Convergence of third derivatives\")\n",
    "plt.xlabel(\"Iteration\")\n",
    "plt.ylabel(\"Change of Change of Seed Position Change\")\n",
    "plt.yscale(\"log\")\n",
    "plt.legend()\n",
    "plt.grid(True, alpha=0.3)\n",
    "plt.show()"
   ]
  },
  {
   "cell_type": "code",
   "execution_count": null,
   "id": "c8a8b68a",
   "metadata": {},
   "outputs": [],
   "source": [
    "plot_computed_cell_size(mesh)"
   ]
  },
  {
   "cell_type": "markdown",
   "id": "3cf035a3",
   "metadata": {},
   "source": [
    "### Energy"
   ]
  },
  {
   "cell_type": "code",
   "execution_count": null,
   "id": "0429d3ce",
   "metadata": {},
   "outputs": [],
   "source": [
    "# Compute total energy per iteration on a log scale\n",
    "total_energy = mesh.total_energy()\n",
    "\n",
    "plt.figure(figsize=(10, 6))\n",
    "plt.plot(np.sqrt(total_energy), label=\"Total Energy\", linewidth=1, color=\"cyan\")\n",
    "# plt.plot(np.log10(total_energy), label=\"Total Energy\", linewidth=1, color=\"cyan\") total_energy, label=\"Total Energy\", linewidth=1, color=\"cyan\")\n",
    "plt.title(\"Total Energy Over Iterations\")\n",
    "plt.xlabel(\"Iteration\")\n",
    "plt.ylabel(\"Total Energy\")\n",
    "plt.legend()\n",
    "plt.yscale(\"log\")\n",
    "plt.grid(True, alpha=0.3)\n",
    "plt.show()"
   ]
  }
 ],
 "metadata": {
  "kernelspec": {
   "display_name": "pygeometry-sandbox",
   "language": "python",
   "name": "python3"
  },
  "language_info": {
   "codemirror_mode": {
    "name": "ipython",
    "version": 3
   },
   "file_extension": ".py",
   "mimetype": "text/x-python",
   "name": "python",
   "nbconvert_exporter": "python",
   "pygments_lexer": "ipython3",
   "version": "3.12.11"
  }
 },
 "nbformat": 4,
 "nbformat_minor": 5
}
